{
 "cells": [
  {
   "cell_type": "markdown",
   "id": "ada1d55a-56a1-4c4f-a4c9-220728611150",
   "metadata": {},
   "source": [
    "# Assignment 7-March-\"Stats-Basic\""
   ]
  },
  {
   "cell_type": "code",
   "execution_count": 2,
   "id": "996ba8d2-9ea4-46d5-8aa8-f292ef04a20d",
   "metadata": {},
   "outputs": [],
   "source": [
    "# Q1. What is Statistics?"
   ]
  },
  {
   "cell_type": "code",
   "execution_count": null,
   "id": "72db7365-7e4d-4be8-9220-7e503c193c2f",
   "metadata": {},
   "outputs": [],
   "source": [
    "# Statistics:-\n",
    "# Statistics is a method of interpreting, analysing and summarising the data.\n",
    "#  Statistics is the study of Data Collection, Analysis, Interpretation, Presentation, and organizing in a specific way.\n",
    "# Statistics is a science of collecting, organising, and analysing the data."
   ]
  },
  {
   "cell_type": "code",
   "execution_count": null,
   "id": "a32be58f-1a2b-47ff-a211-ca2a795bd3fe",
   "metadata": {},
   "outputs": [],
   "source": []
  },
  {
   "cell_type": "code",
   "execution_count": 3,
   "id": "31bd10fa-8c50-48de-ae94-62123679fbde",
   "metadata": {},
   "outputs": [],
   "source": [
    "# Q2. Define the different types of statistics and give an example of when each type might be used."
   ]
  },
  {
   "cell_type": "code",
   "execution_count": null,
   "id": "f100c2ca-b5ef-433b-8a38-97347f03af41",
   "metadata": {},
   "outputs": [],
   "source": [
    "# There are 2-types of Statistics-\n",
    "# 1.) Descriptive  statistics.\n",
    "# It consists of organising and summerising the data.\n",
    "# Mean, Median, mode    \n",
    "    \n",
    "    \n",
    "#  2.) Inferential statistics.\n",
    "# It consists of using data we have maesured to form conclusion.\n",
    "# Sample data, population data.\n",
    "\n"
   ]
  },
  {
   "cell_type": "code",
   "execution_count": null,
   "id": "47dd5a92-2b53-47d3-931d-b9aeb8a6b8f0",
   "metadata": {},
   "outputs": [],
   "source": [
    "# Q3.  What are the different types of data and how do they differ from each other?\n",
    "# Provide an example of each type of data."
   ]
  },
  {
   "cell_type": "code",
   "execution_count": null,
   "id": "529f4de3-c821-4d5e-b27c-18b316e9d180",
   "metadata": {},
   "outputs": [],
   "source": [
    "# There are 2- types of data-\n",
    "# 1. Quantitative Data - (Numerical: +,-,/,* ),(Discreate, Continuous)\n",
    "# Ex- Adhar Card No, Pan card, Account no.\n",
    "\n",
    "# 2. Qualitative Data -  Categorical data (Ordinal, Nominal)\n",
    "# Ex- Students, Man, Women\n"
   ]
  },
  {
   "cell_type": "code",
   "execution_count": null,
   "id": "c7a34d74-66e8-4c62-a804-fdae31c08a7f",
   "metadata": {},
   "outputs": [],
   "source": []
  },
  {
   "cell_type": "code",
   "execution_count": null,
   "id": "d1237e46-00b5-4b48-a551-17685bacbd0c",
   "metadata": {},
   "outputs": [],
   "source": [
    "# Q4. Categorise the following datasets with respect to quantitative and qualitative data types:\n",
    "\n",
    "(i)\tGrading in exam: A+, A, B+, B, C+, C, D, E\n",
    "\n",
    "(ii)\tColour of mangoes: yellow, green, orange, red\n",
    "\n",
    "(iii)\tHeight data of a class: [178.9, 179, 179.5, 176, 177.2, 178.3, 175.8,...]\n",
    "\n",
    "(iv)\tNumber of mangoes exported by a farm: [500, 600, 478, 672, …]"
   ]
  },
  {
   "cell_type": "code",
   "execution_count": null,
   "id": "6aedf212-365c-45c4-b459-838cc8ed1d64",
   "metadata": {},
   "outputs": [],
   "source": [
    "# Quantitative-\n",
    "# Grading in exam: A+, A, B+, B, C+, C, D, E......Quantitative\n",
    "# Colour of mangoes: yellow, green, orange, red.....quantitative\n",
    "\n",
    "# Qualitative-\n",
    "# Height data of a class: [178.9, 179, 179.5, 176, 177.2, 178.3, 175.8,...]....qualitative\n",
    "# Number of mangoes exported by a farm: [500, 600, 478, 672, …]....qualitative"
   ]
  },
  {
   "cell_type": "code",
   "execution_count": null,
   "id": "cb05253c-f822-48c3-a7d5-2083fb4c3738",
   "metadata": {},
   "outputs": [],
   "source": []
  },
  {
   "cell_type": "code",
   "execution_count": 4,
   "id": "cc4408a5-fc17-463b-9c01-d3729dd19d0c",
   "metadata": {},
   "outputs": [],
   "source": [
    "# Q5. Explain the concept of levels of measurement and give an example of a variable for each level."
   ]
  },
  {
   "cell_type": "code",
   "execution_count": null,
   "id": "e407ab41-ac17-4bf1-a3d1-50a9de0d178e",
   "metadata": {},
   "outputs": [],
   "source": [
    "# There are 4 levels of measurement, which can be ranked from low to high:\n",
    "# Nominal: the data can  only be categorized, Qualitative, Categorical, Colours- Green,Blue,Red, Gender-Male,female\n",
    "# Order does not matter\n",
    "\n",
    "# Ordinal: the data can be categorized and ranked., - good, better , best\n",
    "# Ranking is important, Order Mattered, difference can not be measured.\n",
    "\n",
    "# Interval: the data can be categorized and ranked, and evenly spaced.\n",
    "# Ranking is important, Order Mattered, difference can  be measured, Ratio can not be measured.\n",
    "\n",
    "# Ratio: the data can be categorized, ranked, evenly spaced and has a natural zero.\n",
    "# Ranking is important, Order Mattered, difference can  be measured, Ratio can be measured.\n"
   ]
  },
  {
   "cell_type": "code",
   "execution_count": null,
   "id": "01bfeef3-1e9d-4d1f-b21e-41d1be6a2931",
   "metadata": {},
   "outputs": [],
   "source": []
  },
  {
   "cell_type": "code",
   "execution_count": 1,
   "id": "8d089539-ce9d-4c31-9860-925cc8bcde89",
   "metadata": {},
   "outputs": [],
   "source": [
    "# Q6. Why is it important to understand the level of measurement when analyzing data? Provide an \n",
    "# example to illustrate your answer"
   ]
  },
  {
   "cell_type": "code",
   "execution_count": null,
   "id": "931a90ea-f2f2-4958-ad12-682202578d03",
   "metadata": {},
   "outputs": [],
   "source": [
    "#  Levels of measurement tell us how precisely variables are recorded. The level of measurement \n",
    "# determines how we can analyze our data.\n",
    "\n",
    "# It is important to understand the level of measurement of variables in research,\n",
    "# because the level of measurement determines the type of statistical analysis that can be \n",
    "# conducted, and, therefore, the type of conclusions that can be drawn from the research."
   ]
  },
  {
   "cell_type": "code",
   "execution_count": null,
   "id": "96d5710a-8d6a-48f6-bc54-151e3ac8b285",
   "metadata": {},
   "outputs": [],
   "source": []
  },
  {
   "cell_type": "code",
   "execution_count": 2,
   "id": "45a06e7c-157c-4189-91e3-50ee6b7b3b64",
   "metadata": {},
   "outputs": [],
   "source": [
    "# Q7. How nominal data type is different from ordinal data type."
   ]
  },
  {
   "cell_type": "code",
   "execution_count": null,
   "id": "758f39f5-f1d7-4c04-826a-a620722d481e",
   "metadata": {},
   "outputs": [],
   "source": [
    "# Nominal data is classified without a natural order or rank, whereas ordinal data has\n",
    "# a predetermined or natural order. On the other hand, numerical or quantitative data will always be\n",
    "# a number that can be measured.\n",
    "\n",
    "# Nominal scale is a naming scale, where variables are simply “named” or labeled, with no specific \n",
    "# order. Ordinal scale has all its variables in a specific order, beyond just naming them. Interval \n",
    "# scale offers labels, order, as well as, a specific interval between eachof its variable options.\n",
    "\n",
    "# Nominal: the data can  only be categorized, Qualitative, Categorical,ie- Colours- Green,Blue,Red, Gender-Male,female\n",
    "# Order does not matter.\n",
    "\n",
    "# Ordinal: the data can be categorized and ranked.,ie- - good, better , best\n",
    "# Ranking is important, Order Mattered, difference can not be measured."
   ]
  },
  {
   "cell_type": "code",
   "execution_count": null,
   "id": "bfaf4520-6f1a-48c3-9e9a-627b4a8e0155",
   "metadata": {},
   "outputs": [],
   "source": []
  },
  {
   "cell_type": "code",
   "execution_count": 3,
   "id": "8e41aa9a-08c1-4dc0-adce-ddb8049ce037",
   "metadata": {},
   "outputs": [],
   "source": [
    "# Q8. Which type of plot can be used to display data in terms of range?"
   ]
  },
  {
   "cell_type": "code",
   "execution_count": null,
   "id": "049324e7-5333-47de-9546-79cb87d75b0b",
   "metadata": {},
   "outputs": [],
   "source": [
    "# Histogram:- A histogram is a graphical representation of data points organized into user-specified ranges. \n",
    "# Similar in appearance to a bar graph, the histogram condenses a data series into an easily\n",
    "# interpreted visual by taking many data points and grouping them into logical ranges or bins.\n",
    "\n",
    "# Histogram- If the groups depicted in a bar chart are actually continuous numeric ranges, \n",
    "# we can push the bars together to generate a histogram."
   ]
  },
  {
   "cell_type": "code",
   "execution_count": null,
   "id": "6c52cc52-a578-449a-a4a2-0be000ef6e9b",
   "metadata": {},
   "outputs": [],
   "source": []
  },
  {
   "cell_type": "code",
   "execution_count": 4,
   "id": "a734f822-525b-4013-bd37-a82db45a88a3",
   "metadata": {},
   "outputs": [],
   "source": [
    "# Q9. Describe the difference between descriptive and inferential statistics. Give an example of each \n",
    "# type of statistics and explain how they are used."
   ]
  },
  {
   "cell_type": "code",
   "execution_count": null,
   "id": "e94988ec-38db-4565-8869-186979db38bc",
   "metadata": {},
   "outputs": [],
   "source": [
    "# Descriptive - Descriptive statistics summarize the characteristics of a data set.\n",
    "\n",
    "# Inferential - This statistics allow us to test a hypothesis or assess whether our data \n",
    "# is generalizable to the broader population.\n",
    "\n",
    "# 1.) Descriptive  statistics.\n",
    "# It consists of organising and summerising the data.\n",
    "# ie- Mean(Average), Median, mode    \n",
    "    \n",
    "    \n",
    "#  2.) Inferential statistics.\n",
    "# It consists of using data we have maesured to form conclusion.\n",
    "# Sample data, population data.\n",
    "# Based on sample data we used to take decision on Popolation data."
   ]
  },
  {
   "cell_type": "code",
   "execution_count": null,
   "id": "a61355f2-b3c7-4d24-8392-ec330baeec42",
   "metadata": {},
   "outputs": [],
   "source": []
  },
  {
   "cell_type": "code",
   "execution_count": 5,
   "id": "b22b96ef-5ffd-4dc6-a775-7a89e6e86cad",
   "metadata": {},
   "outputs": [],
   "source": [
    "# Q10. What are some common measures of central tendency and variability used in statistics? \n",
    "# Explain how each measure can be used to describe a dataset."
   ]
  },
  {
   "cell_type": "code",
   "execution_count": null,
   "id": "451af290-59e3-43e1-ac2e-a7ba5e5f92b9",
   "metadata": {},
   "outputs": [],
   "source": [
    "# Measures of central tendency tell us what is common or typical about our variable. \n",
    "# Three measures of central tendency are the mode, the median and the mean. The mode is\n",
    "# used almost exclusively with nominal-level data, as it is the only measure of central tendency \n",
    "# available for such variables.\n",
    "\n",
    "# Central tendency and variation are two measures used in statistics to summarize data.\n",
    "# Measure of central tendency shows where the center or middle of the data set is located, \n",
    "# whereas measure of variation shows the dispersion among data values.\n",
    "\n",
    "# The arithmetic mean is found by adding the numbers and dividing the sum by the number of numbers in the list. \n",
    "# This is what is most often meant by an average. The median is the middle value in\n",
    "# a list ordered from smallest to largest. The mode is the most frequently occurring value on the list."
   ]
  },
  {
   "cell_type": "code",
   "execution_count": null,
   "id": "a5fbfe45-102f-4ea4-b14e-e89bbf6523ef",
   "metadata": {},
   "outputs": [],
   "source": []
  },
  {
   "cell_type": "code",
   "execution_count": null,
   "id": "8807d393-69c3-4ec8-a4a7-10e8abacbc05",
   "metadata": {},
   "outputs": [],
   "source": []
  },
  {
   "cell_type": "code",
   "execution_count": null,
   "id": "51e2cdfa-d711-4522-8ad7-ac4c8847f829",
   "metadata": {},
   "outputs": [],
   "source": []
  }
 ],
 "metadata": {
  "kernelspec": {
   "display_name": "Python 3 (ipykernel)",
   "language": "python",
   "name": "python3"
  },
  "language_info": {
   "codemirror_mode": {
    "name": "ipython",
    "version": 3
   },
   "file_extension": ".py",
   "mimetype": "text/x-python",
   "name": "python",
   "nbconvert_exporter": "python",
   "pygments_lexer": "ipython3",
   "version": "3.10.6"
  }
 },
 "nbformat": 4,
 "nbformat_minor": 5
}
